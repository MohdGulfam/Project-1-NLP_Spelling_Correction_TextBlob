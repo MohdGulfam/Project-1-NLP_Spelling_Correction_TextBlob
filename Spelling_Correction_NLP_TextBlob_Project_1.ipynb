{
  "nbformat": 4,
  "nbformat_minor": 0,
  "metadata": {
    "colab": {
      "name": "Spelling_Correction_NLP_TextBlob_Project-1.ipynb",
      "provenance": []
    },
    "kernelspec": {
      "name": "python3",
      "display_name": "Python 3"
    }
  },
  "cells": [
    {
      "cell_type": "code",
      "metadata": {
        "id": "-WJKKgIPX5xn"
      },
      "source": [
        "#With the use of textblob library in Python, we can easily create NLP Models for the task of Spelling Corrections. \r\n",
        "#Detecting actual word spelling errors is a much more difficult task, as any word in the input text can be an error. "
      ],
      "execution_count": null,
      "outputs": []
    },
    {
      "cell_type": "code",
      "metadata": {
        "colab": {
          "base_uri": "https://localhost:8080/"
        },
        "id": "1FUEYWuUX9Zf",
        "outputId": "25a6be2a-75e5-4de2-e1fd-b643eb373dad"
      },
      "source": [
        "from textblob import TextBlob\r\n",
        "words = [\"comu\", \"Mahine Learnin\",\"Deep Learnin\",\"doone\",\"natual Lanuage\"]\r\n",
        "corrected_words = []\r\n",
        "for i in words:\r\n",
        "    corrected_words.append(TextBlob(i))\r\n",
        "print(\"Wrong words :\", words)\r\n",
        "print(\"Corrected Words are :\")\r\n",
        "for i in corrected_words:\r\n",
        "    print(i.correct(), end=\" \")"
      ],
      "execution_count": 8,
      "outputs": [
        {
          "output_type": "stream",
          "text": [
            "Wrong words : ['comu', 'Mahine Learnin', 'Deep Learnin', 'doone', 'natual Lanuage']\n",
            "Corrected Words are :\n",
            "come Machine Learning Deep Learning done natural Language "
          ],
          "name": "stdout"
        }
      ]
    }
  ]
}